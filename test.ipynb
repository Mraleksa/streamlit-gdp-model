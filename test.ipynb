{
 "cells": [
  {
   "cell_type": "code",
   "execution_count": 1,
   "metadata": {},
   "outputs": [
    {
     "name": "stdout",
     "output_type": "stream",
     "text": [
      "hi!\n"
     ]
    }
   ],
   "source": [
    "print('hi!')"
   ]
  },
  {
   "cell_type": "code",
   "execution_count": 6,
   "metadata": {},
   "outputs": [
    {
     "name": "stdout",
     "output_type": "stream",
     "text": [
      "1.2.0\n"
     ]
    }
   ],
   "source": [
    "import pandas as pd\n",
    "import re\n",
    "import numpy as np\n",
    "from matplotlib import style\n",
    "style.use(\"fivethirtyeight\")\n",
    "pd.set_option('display.max_columns', 100)\n",
    "import duckdb\n",
    "print(duckdb.__version__)"
   ]
  },
  {
   "cell_type": "code",
   "execution_count": 13,
   "metadata": {},
   "outputs": [
    {
     "name": "stdout",
     "output_type": "stream",
     "text": [
      "(23776, 8)\n",
      "(23241, 8)\n"
     ]
    },
    {
     "data": {
      "text/html": [
       "<div>\n",
       "<style scoped>\n",
       "    .dataframe tbody tr th:only-of-type {\n",
       "        vertical-align: middle;\n",
       "    }\n",
       "\n",
       "    .dataframe tbody tr th {\n",
       "        vertical-align: top;\n",
       "    }\n",
       "\n",
       "    .dataframe thead th {\n",
       "        text-align: right;\n",
       "    }\n",
       "</style>\n",
       "<table border=\"1\" class=\"dataframe\">\n",
       "  <thead>\n",
       "    <tr style=\"text-align: right;\">\n",
       "      <th></th>\n",
       "      <th>fio</th>\n",
       "      <th>url</th>\n",
       "      <th>work_place</th>\n",
       "      <th>region</th>\n",
       "      <th>workPost</th>\n",
       "      <th>declaration_period</th>\n",
       "      <th>responsiblePosition</th>\n",
       "      <th>family</th>\n",
       "    </tr>\n",
       "  </thead>\n",
       "  <tbody>\n",
       "    <tr>\n",
       "      <th>0</th>\n",
       "      <td>Стужук Олександр Володимирович</td>\n",
       "      <td>/documents/2db5b3f1-1d81-4413-9a9f-727d91cd41ac</td>\n",
       "      <td>ДЕРЖАВНЕ БЮРО РОЗСЛІДУВАНЬ</td>\n",
       "      <td>Житомирська</td>\n",
       "      <td>Заступник начальника відділу</td>\n",
       "      <td>NaN</td>\n",
       "      <td>Особи, посади яких належать до посад державної...</td>\n",
       "      <td>2</td>\n",
       "    </tr>\n",
       "    <tr>\n",
       "      <th>1</th>\n",
       "      <td>КРУПА ОЛЕКСАНДР ВОЛОДИМИРОВИЧ</td>\n",
       "      <td>/documents/1c841c7c-8696-4f96-9cf1-b7b5aca51206</td>\n",
       "      <td>ГОЛОВНЕ УПРАВЛІННЯ ПЕНСІЙНОГО ФОНДУ УКРАЇНИ В ...</td>\n",
       "      <td>Хмельницька</td>\n",
       "      <td>Начальник Головного управління Пенсійного фонд...</td>\n",
       "      <td>2024.0</td>\n",
       "      <td>Особи, посади яких належать до посад державної...</td>\n",
       "      <td>4</td>\n",
       "    </tr>\n",
       "    <tr>\n",
       "      <th>2</th>\n",
       "      <td>РАДІОНОВ ОЛЕКСАНДР ОЛЕКСАНДРОВИЧ</td>\n",
       "      <td>/documents/e98a1a91-084a-4592-92c9-90b8cedd5843</td>\n",
       "      <td>Міністерство розвитку економіки, торгівлі та с...</td>\n",
       "      <td>Київ</td>\n",
       "      <td>Заступник директора департаменту політики влас...</td>\n",
       "      <td>2024.0</td>\n",
       "      <td>Особи, посади яких належать до посад державної...</td>\n",
       "      <td>3</td>\n",
       "    </tr>\n",
       "  </tbody>\n",
       "</table>\n",
       "</div>"
      ],
      "text/plain": [
       "                                fio  \\\n",
       "0    Стужук Олександр Володимирович   \n",
       "1     КРУПА ОЛЕКСАНДР ВОЛОДИМИРОВИЧ   \n",
       "2  РАДІОНОВ ОЛЕКСАНДР ОЛЕКСАНДРОВИЧ   \n",
       "\n",
       "                                               url  \\\n",
       "0  /documents/2db5b3f1-1d81-4413-9a9f-727d91cd41ac   \n",
       "1  /documents/1c841c7c-8696-4f96-9cf1-b7b5aca51206   \n",
       "2  /documents/e98a1a91-084a-4592-92c9-90b8cedd5843   \n",
       "\n",
       "                                          work_place       region  \\\n",
       "0                         ДЕРЖАВНЕ БЮРО РОЗСЛІДУВАНЬ  Житомирська   \n",
       "1  ГОЛОВНЕ УПРАВЛІННЯ ПЕНСІЙНОГО ФОНДУ УКРАЇНИ В ...  Хмельницька   \n",
       "2  Міністерство розвитку економіки, торгівлі та с...         Київ   \n",
       "\n",
       "                                            workPost  declaration_period  \\\n",
       "0                       Заступник начальника відділу                 NaN   \n",
       "1  Начальник Головного управління Пенсійного фонд...              2024.0   \n",
       "2  Заступник директора департаменту політики влас...              2024.0   \n",
       "\n",
       "                                 responsiblePosition  family  \n",
       "0  Особи, посади яких належать до посад державної...       2  \n",
       "1  Особи, посади яких належать до посад державної...       4  \n",
       "2  Особи, посади яких належать до посад державної...       3  "
      ]
     },
     "execution_count": 13,
     "metadata": {},
     "output_type": "execute_result"
    }
   ],
   "source": [
    "df = pd.read_csv('../../PLAY/declaration/2024/c.csv',sep=',', on_bad_lines='skip')\n",
    "print(df.shape)\n",
    "df = df.drop_duplicates(subset=['url'])\n",
    "print(df.shape)\n",
    "df[:3]"
   ]
  },
  {
   "cell_type": "code",
   "execution_count": 16,
   "metadata": {},
   "outputs": [
    {
     "data": {
      "text/plain": [
       "<Axes: >"
      ]
     },
     "execution_count": 16,
     "metadata": {},
     "output_type": "execute_result"
    },
    {
     "data": {
      "image/png": "[encoded data removed]",
      "text/plain": [
       "<Figure size 640x480 with 1 Axes>"
      ]
     },
     "metadata": {},
     "output_type": "display_data"
    }
   ],
   "source": [
    "df['family'].hist(color='blue', alpha=0.5, edgecolor='black')"
   ]
  },
  {
   "cell_type": "code",
   "execution_count": null,
   "metadata": {},
   "outputs": [],
   "source": []
  },
  {
   "cell_type": "code",
   "execution_count": null,
   "metadata": {},
   "outputs": [],
   "source": []
  },
  {
   "cell_type": "code",
   "execution_count": null,
   "metadata": {},
   "outputs": [],
   "source": []
  },
  {
   "cell_type": "code",
   "execution_count": null,
   "metadata": {},
   "outputs": [],
   "source": []
  },
  {
   "cell_type": "code",
   "execution_count": null,
   "metadata": {},
   "outputs": [],
   "source": []
  }
 ],
 "metadata": {
  "kernelspec": {
   "display_name": "base",
   "language": "python",
   "name": "python3"
  },
  "language_info": {
   "codemirror_mode": {
    "name": "ipython",
    "version": 3
   },
   "file_extension": ".py",
   "mimetype": "text/x-python",
   "name": "python",
   "nbconvert_exporter": "python",
   "pygments_lexer": "ipython3",
   "version": "3.12.7"
  }
 },
 "nbformat": 4,
 "nbformat_minor": 2
}
